{
  "nbformat": 4,
  "nbformat_minor": 0,
  "metadata": {
    "colab": {
      "provenance": []
    },
    "kernelspec": {
      "name": "python3",
      "display_name": "Python 3"
    },
    "language_info": {
      "name": "python"
    }
  },
  "cells": [
    {
      "cell_type": "code",
      "execution_count": 3,
      "metadata": {
        "colab": {
          "base_uri": "https://localhost:8080/"
        },
        "id": "DK2eAaEljRTc",
        "outputId": "18e51712-0998-42b1-891a-44381933fa9f"
      },
      "outputs": [
        {
          "output_type": "stream",
          "name": "stdout",
          "text": [
            "[1 2 3 4 5]\n",
            "int64\n"
          ]
        }
      ],
      "source": [
        "# 1. Create a NumPy array 'arr' of integers from 0 to 5 and print its data type.\n",
        "import numpy as np\n",
        "arr = np.array([1, 2, 3, 4, 5])\n",
        "print(arr)\n",
        "print(arr.dtype)"
      ]
    },
    {
      "cell_type": "code",
      "source": [
        "# 2. Given a NumPy array 'arr', check if its data type is float64.\n",
        "#arr = np.array([1.5, 2.6, 3.7])\n",
        "import numpy as np\n",
        "arr = np.array([1.5, 2.6, 3.7])\n",
        "is_float64 = arr.dtype == np.float64\n",
        "print(is_float64)"
      ],
      "metadata": {
        "colab": {
          "base_uri": "https://localhost:8080/"
        },
        "id": "rXkgwUNEjXRj",
        "outputId": "c6f7de9d-2693-48f8-b0b6-602c588062ac"
      },
      "execution_count": 6,
      "outputs": [
        {
          "output_type": "stream",
          "name": "stdout",
          "text": [
            "True\n"
          ]
        }
      ]
    },
    {
      "cell_type": "code",
      "source": [
        "# 3. Create a NumPy array 'arr' with a data type of complex128 containing three complex numbers.\n",
        "arr = np.array([1+2j, 3+4j, 5+6j], dtype=np.complex128)\n",
        "print(arr)\n",
        "print(arr.dtype)"
      ],
      "metadata": {
        "colab": {
          "base_uri": "https://localhost:8080/"
        },
        "id": "kXzIe0v6mp1x",
        "outputId": "a4f66880-172b-46dd-944e-949190462112"
      },
      "execution_count": 7,
      "outputs": [
        {
          "output_type": "stream",
          "name": "stdout",
          "text": [
            "[1.+2.j 3.+4.j 5.+6.j]\n",
            "complex128\n"
          ]
        }
      ]
    },
    {
      "cell_type": "code",
      "source": [
        "# 4.Convert an existing NumPy array 'arr' of integers to float32\n",
        "arr = np.array([1, 2, 3, 4, 5], dtype=np.int32)\n",
        "arr_float32 = arr.astype(np.float32)\n",
        "print(arr_float32)"
      ],
      "metadata": {
        "colab": {
          "base_uri": "https://localhost:8080/"
        },
        "id": "gNGajlxNnXoS",
        "outputId": "753cf959-8a5e-4a0e-b8fd-4cf31921630f"
      },
      "execution_count": 8,
      "outputs": [
        {
          "output_type": "stream",
          "name": "stdout",
          "text": [
            "[1. 2. 3. 4. 5.]\n"
          ]
        }
      ]
    },
    {
      "cell_type": "code",
      "source": [
        "# 5. Given a NumPy array 'arr' with float64 data type, convert it to float32 to reduce decimal precision.\n",
        "arr = np.array([1.5,2.5,3.5], dtype=np.float64)\n",
        "arr_float32 = arr.astype(np.float32)\n",
        "print(arr_float32)"
      ],
      "metadata": {
        "colab": {
          "base_uri": "https://localhost:8080/"
        },
        "id": "DULil2mgn2YZ",
        "outputId": "7fb1ed41-8cc9-474c-b03c-13200d02b87f"
      },
      "execution_count": 9,
      "outputs": [
        {
          "output_type": "stream",
          "name": "stdout",
          "text": [
            "[1.5 2.5 3.5]\n"
          ]
        }
      ]
    },
    {
      "cell_type": "code",
      "source": [
        "# 6. Write a function array_attributes that takes a NumPy array as input and returns its shape, size, and data\n",
        "#type.\n",
        "def array_attributes(arr):\n",
        "    shape = arr.shape\n",
        "    size = arr.size\n",
        "    dtype = arr.dtype\n",
        "    return shape, size, dtype\n",
        "arr = np.array([[1,2,3],[4,5,6]])\n",
        "array_attributes(arr)"
      ],
      "metadata": {
        "colab": {
          "base_uri": "https://localhost:8080/"
        },
        "id": "kV0jkOczokmK",
        "outputId": "8da34929-728d-46d2-a98d-bf887e10a19c"
      },
      "execution_count": 10,
      "outputs": [
        {
          "output_type": "execute_result",
          "data": {
            "text/plain": [
              "((2, 3), 6, dtype('int64'))"
            ]
          },
          "metadata": {},
          "execution_count": 10
        }
      ]
    },
    {
      "cell_type": "code",
      "source": [
        "# 7. Create a function array_dimension that takes a NumPy array as input and returns its dimensionality.\n",
        "def array_dimension(arr):\n",
        "    dimensionality = arr.ndim\n",
        "    return dimensionality\n",
        "\n",
        "arr = np.array([[1,2,3],[4,5,6],[7,8,9]])\n",
        "array_dimension(arr)"
      ],
      "metadata": {
        "colab": {
          "base_uri": "https://localhost:8080/"
        },
        "id": "kVmYewqBpMsa",
        "outputId": "53db8bf6-21d8-4b0f-dbb1-a699101e0eb7"
      },
      "execution_count": 13,
      "outputs": [
        {
          "output_type": "execute_result",
          "data": {
            "text/plain": [
              "2"
            ]
          },
          "metadata": {},
          "execution_count": 13
        }
      ]
    },
    {
      "cell_type": "code",
      "source": [
        "# 8. Design a function item_size_info that takes a NumPy array as input and returns the item size and the total\n",
        "#size in bytes.\n",
        "def item_size_info(arr):\n",
        "    item_size = arr.itemsize\n",
        "    total_size = arr.nbytes\n",
        "    return item_size, total_size\n",
        "arr = np.array([[1,2,3],[4,5,6],[7,8,9]])\n",
        "item_size_info(arr)"
      ],
      "metadata": {
        "colab": {
          "base_uri": "https://localhost:8080/"
        },
        "id": "pqks2SP3qF2A",
        "outputId": "fc2989d4-063b-4cc2-bd11-b54f9ac8d1aa"
      },
      "execution_count": 16,
      "outputs": [
        {
          "output_type": "execute_result",
          "data": {
            "text/plain": [
              "(8, 72)"
            ]
          },
          "metadata": {},
          "execution_count": 16
        }
      ]
    },
    {
      "cell_type": "code",
      "source": [
        "# 9. Create a function array_strides that takes a NumPy array as input and returns the strides of the array.\n",
        "def array_strides(arr):\n",
        "    strides = arr.strides\n",
        "    return strides\n",
        "arr = np.array([[1,2,3],[4,5,6],[7,8,9]])\n",
        "array_strides(arr)"
      ],
      "metadata": {
        "colab": {
          "base_uri": "https://localhost:8080/"
        },
        "id": "AIt8Msvnq-tp",
        "outputId": "76e1e0b3-958a-4798-da5e-72a2bf6fbc6a"
      },
      "execution_count": 17,
      "outputs": [
        {
          "output_type": "execute_result",
          "data": {
            "text/plain": [
              "(24, 8)"
            ]
          },
          "metadata": {},
          "execution_count": 17
        }
      ]
    },
    {
      "cell_type": "code",
      "source": [
        "# 10. Design a function shape_stride_relationship that takes a NumPy array as input and returns the shape\n",
        "#and strides of the array.\n",
        "def shape_stride_relationship(arr):\n",
        "    shape = arr.shape\n",
        "    strides = arr.strides\n",
        "    return shape, strides\n",
        "\n",
        "arr = np.array([[1,2,3],[4,5,6],[7,8,9]])\n",
        "shape_stride_relationship(arr)"
      ],
      "metadata": {
        "colab": {
          "base_uri": "https://localhost:8080/"
        },
        "id": "5U-qMShvru20",
        "outputId": "d9472832-dc41-455c-ec2e-94715a3e850f"
      },
      "execution_count": 18,
      "outputs": [
        {
          "output_type": "execute_result",
          "data": {
            "text/plain": [
              "((3, 3), (24, 8))"
            ]
          },
          "metadata": {},
          "execution_count": 18
        }
      ]
    },
    {
      "cell_type": "code",
      "source": [
        "# 11. Create a function `create_zeros_array` that takes an integer `n` as input and returns a NumPy array of\n",
        "#zeros with `n` elements.\n",
        "def create_zeros_array(n):\n",
        "    zeros_array = np.zeros(n)\n",
        "    return zeros_array\n",
        "create_zeros_array(5)"
      ],
      "metadata": {
        "colab": {
          "base_uri": "https://localhost:8080/"
        },
        "id": "P0KqpmA1r_Af",
        "outputId": "01a6c3ae-726a-468f-a74a-313265fcf2c2"
      },
      "execution_count": 20,
      "outputs": [
        {
          "output_type": "execute_result",
          "data": {
            "text/plain": [
              "array([0., 0., 0., 0., 0.])"
            ]
          },
          "metadata": {},
          "execution_count": 20
        }
      ]
    },
    {
      "cell_type": "code",
      "source": [
        "# 12. Write a function `create_ones_matrix` that takes integers `rows` and `cols` as inputs and generates a 2D\n",
        "#NumPy array filled with ones of size `rows x cols`.\n",
        "def create_ones_matrix(rows, cols):\n",
        "    ones_matrix = np.ones((rows, cols))\n",
        "    return ones_matrix\n",
        "create_ones_matrix(3,4)"
      ],
      "metadata": {
        "colab": {
          "base_uri": "https://localhost:8080/"
        },
        "id": "2jJRnXRZseRr",
        "outputId": "17deeb94-b400-4f13-91c2-b26c38efe546"
      },
      "execution_count": 21,
      "outputs": [
        {
          "output_type": "execute_result",
          "data": {
            "text/plain": [
              "array([[1., 1., 1., 1.],\n",
              "       [1., 1., 1., 1.],\n",
              "       [1., 1., 1., 1.]])"
            ]
          },
          "metadata": {},
          "execution_count": 21
        }
      ]
    },
    {
      "cell_type": "code",
      "source": [
        "#13. Write a function `generate_range_array` that takes three integers start, stop, and step as arguments and\n",
        "#creates a NumPy array with a range starting from `start`, ending at stop (exclusive), and with the specified\n",
        "#`step`\n",
        "def generate_range_array(start, stop, step):\n",
        "    import numpy as np\n",
        "    return np.arange(start, stop, step)\n",
        "print(generate_range_array(2, 10, 2))"
      ],
      "metadata": {
        "colab": {
          "base_uri": "https://localhost:8080/"
        },
        "id": "H7Dq4o3itKKe",
        "outputId": "550e4fb1-5ad6-4f9f-dd74-28589282858b"
      },
      "execution_count": 22,
      "outputs": [
        {
          "output_type": "stream",
          "name": "stdout",
          "text": [
            "[2 4 6 8]\n"
          ]
        }
      ]
    },
    {
      "cell_type": "code",
      "source": [
        "# 14. Design a function `generate_linear_space` that takes two floats `start`, `stop`, and an integer `num` as\n",
        "#arguments and generates a NumPy array with num equally spaced values between `start` and `stop`\n",
        "#(inclusive).\n",
        "def generate_linear_space(start,stop,num):\n",
        "  return np.linspace(start,stop,num)\n",
        "\n",
        "generate_linear_space(1,10,5)\n"
      ],
      "metadata": {
        "colab": {
          "base_uri": "https://localhost:8080/"
        },
        "id": "QDtLJFx6tm-b",
        "outputId": "83008a00-1c67-4460-fac7-a5049a0c4c94"
      },
      "execution_count": 24,
      "outputs": [
        {
          "output_type": "execute_result",
          "data": {
            "text/plain": [
              "array([ 1.  ,  3.25,  5.5 ,  7.75, 10.  ])"
            ]
          },
          "metadata": {},
          "execution_count": 24
        }
      ]
    },
    {
      "cell_type": "code",
      "source": [
        "# 15. Create a function `create_identity_matrix` that takes an integer `n` as input and generates a square\n",
        "#identity matrix of size `n x n` using `numpy.eye`.\n",
        "def create_identity_matrix(n):\n",
        "    import numpy as np\n",
        "    return np.eye(n)\n",
        "create_identity_matrix(3)"
      ],
      "metadata": {
        "colab": {
          "base_uri": "https://localhost:8080/"
        },
        "id": "c5iMMmv5uts7",
        "outputId": "a3bcc393-981e-4ecd-c95c-bcbb089b2772"
      },
      "execution_count": 25,
      "outputs": [
        {
          "output_type": "execute_result",
          "data": {
            "text/plain": [
              "array([[1., 0., 0.],\n",
              "       [0., 1., 0.],\n",
              "       [0., 0., 1.]])"
            ]
          },
          "metadata": {},
          "execution_count": 25
        }
      ]
    },
    {
      "cell_type": "code",
      "source": [
        "# 16. Write a function that takes a Python list and converts it into a NumPy array.\n",
        "def python_list_to_numpy_array(lst):\n",
        "    import numpy as np\n",
        "    return np.array(lst)\n",
        "\n",
        "python_list_to_numpy_array([1,2,3,4,5,6,7])\n"
      ],
      "metadata": {
        "colab": {
          "base_uri": "https://localhost:8080/"
        },
        "id": "nPxeaW-DvOkO",
        "outputId": "e2ede9fd-afa0-4da2-b8cb-89fca4d09e7e"
      },
      "execution_count": 26,
      "outputs": [
        {
          "output_type": "execute_result",
          "data": {
            "text/plain": [
              "array([1, 2, 3, 4, 5, 6, 7])"
            ]
          },
          "metadata": {},
          "execution_count": 26
        }
      ]
    },
    {
      "cell_type": "code",
      "source": [
        "#17. Create a NumPy array and demonstrate the use of `numpy.view` to create a new array object with the\n",
        "#same data.\n",
        "def create_view_array(arr):\n",
        "  numpy_view = arr.view()\n",
        "  return numpy_view\n",
        "\n",
        "arr = np.array([1,2,3])\n",
        "create_view_array(arr)"
      ],
      "metadata": {
        "colab": {
          "base_uri": "https://localhost:8080/"
        },
        "id": "wdLfK83vv4-l",
        "outputId": "bccfad9e-5d54-46ea-e03a-e295767ef2b4"
      },
      "execution_count": 28,
      "outputs": [
        {
          "output_type": "execute_result",
          "data": {
            "text/plain": [
              "array([1, 2, 3])"
            ]
          },
          "metadata": {},
          "execution_count": 28
        }
      ]
    },
    {
      "cell_type": "code",
      "source": [
        "# 18. Write a function that takes two NumPy arrays and concatenates them along a specified axis.\n",
        "def concatenate_arrays(arr1, arr2, axis):\n",
        "    return np.concatenate((arr1, arr2), axis=axis)\n",
        "arr1 = np.array([1,2,3])\n",
        "arr2 = np.array([4,5,6])\n",
        "axis = 0\n",
        "concatenate_arrays(arr1,arr2,axis)"
      ],
      "metadata": {
        "colab": {
          "base_uri": "https://localhost:8080/"
        },
        "id": "qKtgbywrwbK-",
        "outputId": "1ad9979e-c838-4d35-b9d6-41618dce164d"
      },
      "execution_count": 32,
      "outputs": [
        {
          "output_type": "execute_result",
          "data": {
            "text/plain": [
              "array([1, 2, 3, 4, 5, 6])"
            ]
          },
          "metadata": {},
          "execution_count": 32
        }
      ]
    },
    {
      "cell_type": "code",
      "source": [
        "# 19. Create two NumPy arrays with different shapes and concatenate them horizontally using `numpy.\n",
        "#concatenate`.\n",
        "def horizontally_arrays(arr1, arr2):\n",
        "  return np.concatenate((arr1,arr2))\n",
        "arr2 = ([[1,2,3],[8,5,2]])\n",
        "arr1 = ([[4,5,6],[7,8,9]])\n",
        "horizontally_arrays(arr1,arr2)"
      ],
      "metadata": {
        "colab": {
          "base_uri": "https://localhost:8080/"
        },
        "id": "UiMo9bDixXQo",
        "outputId": "37f70407-3128-4618-a6f0-603b0367892e"
      },
      "execution_count": 39,
      "outputs": [
        {
          "output_type": "execute_result",
          "data": {
            "text/plain": [
              "array([[4, 5, 6],\n",
              "       [7, 8, 9],\n",
              "       [1, 2, 3],\n",
              "       [8, 5, 2]])"
            ]
          },
          "metadata": {},
          "execution_count": 39
        }
      ]
    },
    {
      "cell_type": "code",
      "source": [
        "# 20. Write a function that vertically stacks multiple NumPy arrays given as a list.\n",
        "def vertically_stacks(arrays):\n",
        "  return np.vstack(arrays)\n",
        "arr1 = np.array([1,2,3])\n",
        "arr2 = np.array([4,5,6])\n",
        "arr3 = np.array([7,8,9])\n",
        "arrays  = (arr1 , arr2, arr3)\n",
        "vertically_stacks(arrays)"
      ],
      "metadata": {
        "colab": {
          "base_uri": "https://localhost:8080/"
        },
        "id": "9GRqe5lFyeQd",
        "outputId": "2388ca7d-c5d4-419c-f6a2-8c72a267becc"
      },
      "execution_count": 41,
      "outputs": [
        {
          "output_type": "execute_result",
          "data": {
            "text/plain": [
              "array([[1, 2, 3],\n",
              "       [4, 5, 6],\n",
              "       [7, 8, 9]])"
            ]
          },
          "metadata": {},
          "execution_count": 41
        }
      ]
    },
    {
      "cell_type": "code",
      "source": [
        "# 21. Write a Python function using NumPy to create an array of integers within a specified range (inclusive)\n",
        "#with a given step size.\n",
        "def create_array(start, stop, step):\n",
        "  array = np.arange(start,stop+1,step)\n",
        "  return array\n",
        "create_array(1,50,5)"
      ],
      "metadata": {
        "colab": {
          "base_uri": "https://localhost:8080/"
        },
        "id": "toQhd6h_1aat",
        "outputId": "47f822a5-91ec-411e-bd7f-d96036a2976b"
      },
      "execution_count": 43,
      "outputs": [
        {
          "output_type": "execute_result",
          "data": {
            "text/plain": [
              "array([ 1,  6, 11, 16, 21, 26, 31, 36, 41, 46])"
            ]
          },
          "metadata": {},
          "execution_count": 43
        }
      ]
    },
    {
      "cell_type": "code",
      "source": [
        "# 22. Write a Python function using NumPy to generate an array of 10 equally spaced values between 0 and 1\n",
        "#(inclusive).\n",
        "def lin_space():\n",
        "  return np.linspace(0,1,10)\n",
        "lin_space()"
      ],
      "metadata": {
        "colab": {
          "base_uri": "https://localhost:8080/"
        },
        "id": "GT1JXAoY3FaF",
        "outputId": "0ba619c4-8d52-4d50-ae61-da29cbb32992"
      },
      "execution_count": 50,
      "outputs": [
        {
          "output_type": "execute_result",
          "data": {
            "text/plain": [
              "array([0.        , 0.11111111, 0.22222222, 0.33333333, 0.44444444,\n",
              "       0.55555556, 0.66666667, 0.77777778, 0.88888889, 1.        ])"
            ]
          },
          "metadata": {},
          "execution_count": 50
        }
      ]
    },
    {
      "cell_type": "code",
      "source": [
        "# 23. Write a Python function using NumPy to create an array of 5 logarithmically spaced values between 1 and\n",
        "# 1000 (inclusive).\n",
        "def generate_log_space():\n",
        "    return np.logspace(0, 1000, 5)\n",
        "print(generate_log_space())\n",
        "\n"
      ],
      "metadata": {
        "colab": {
          "base_uri": "https://localhost:8080/"
        },
        "id": "4Lm4sRb33xh-",
        "outputId": "c4fc0a80-8673-4b80-cb44-c0d2a1954bbb"
      },
      "execution_count": 52,
      "outputs": [
        {
          "output_type": "stream",
          "name": "stdout",
          "text": [
            "[1.e+000 1.e+250     inf     inf     inf]\n"
          ]
        },
        {
          "output_type": "stream",
          "name": "stderr",
          "text": [
            "/usr/local/lib/python3.10/dist-packages/numpy/core/function_base.py:298: RuntimeWarning: overflow encountered in power\n",
            "  return _nx.power(base, y)\n"
          ]
        }
      ]
    },
    {
      "cell_type": "code",
      "source": [
        "def generate_log_space():\n",
        "    return np.logspace(0, 3, 5)\n",
        "print(generate_log_space())"
      ],
      "metadata": {
        "colab": {
          "base_uri": "https://localhost:8080/"
        },
        "id": "dwXrUe5D4F-k",
        "outputId": "2ce918ae-4409-40cd-a933-df16b0924049"
      },
      "execution_count": 53,
      "outputs": [
        {
          "output_type": "stream",
          "name": "stdout",
          "text": [
            "[   1.            5.62341325   31.6227766   177.827941   1000.        ]\n"
          ]
        }
      ]
    },
    {
      "cell_type": "code",
      "source": [
        "#24. Create a Pandas DataFrame using a NumPy array that contains 5 rows and 3 columns, where the values\n",
        "#are random integers between 1 and 100.\n",
        "import pandas as pd\n",
        "import numpy as np\n",
        "arr=np.random.randint(1,100,(5,3))\n",
        "df=pd.DataFrame(arr,columns=['A','B','C'])\n",
        "print(df)"
      ],
      "metadata": {
        "colab": {
          "base_uri": "https://localhost:8080/"
        },
        "id": "FpDdhCM75-zc",
        "outputId": "f474c213-9b53-43ae-abd5-55be28217716"
      },
      "execution_count": 54,
      "outputs": [
        {
          "output_type": "stream",
          "name": "stdout",
          "text": [
            "    A   B   C\n",
            "0  57  18  80\n",
            "1  73  81  74\n",
            "2   6  82  30\n",
            "3  61   1  80\n",
            "4  28  86  54\n"
          ]
        }
      ]
    },
    {
      "cell_type": "code",
      "source": [
        "#25. Write a function that takes a Pandas DataFrame and replaces all negative values in a specific column\n",
        "#with zeros. Use NumPy operations within the Pandas DataFrame.\n",
        "def replace_negatives_with_zero(df, column_name):\n",
        "    df[column_name] = np.where(df[column_name] < 0, 0, df[column_name])\n",
        "    return df\n",
        "data = {'A': [1, -2, 3], 'B': [-4, 5, -6]}\n",
        "df = pd.DataFrame(data)\n",
        "print(replace_negatives_with_zero(df, 'A'))\n"
      ],
      "metadata": {
        "colab": {
          "base_uri": "https://localhost:8080/"
        },
        "id": "Fk2pIVnL7vmW",
        "outputId": "d4c4c32a-a1ea-4c7f-fbeb-5dbc7b56b5e9"
      },
      "execution_count": 55,
      "outputs": [
        {
          "output_type": "stream",
          "name": "stdout",
          "text": [
            "   A  B\n",
            "0  1 -4\n",
            "1  0  5\n",
            "2  3 -6\n"
          ]
        }
      ]
    },
    {
      "cell_type": "code",
      "source": [
        "#26. Access the 3rd element from the given NumPy array.\n",
        "arr = np.array([10,20,30,40,50])\n",
        "arr[2]"
      ],
      "metadata": {
        "colab": {
          "base_uri": "https://localhost:8080/"
        },
        "id": "b83eNJ-n-RPK",
        "outputId": "8b48c646-d6d2-4982-f423-09e964733f9f"
      },
      "execution_count": 57,
      "outputs": [
        {
          "output_type": "execute_result",
          "data": {
            "text/plain": [
              "30"
            ]
          },
          "metadata": {},
          "execution_count": 57
        }
      ]
    },
    {
      "cell_type": "code",
      "source": [
        "# 27. Retrieve the element at index (1, 2) from the 2D NumPy array.\n",
        "def get_element(arr):\n",
        "  return arr[1,2]\n",
        "\n",
        "arr_2d =np.array([[1,2,3],[4,5,6],[7,8,9]])\n",
        "get_element(arr_2d)"
      ],
      "metadata": {
        "colab": {
          "base_uri": "https://localhost:8080/"
        },
        "id": "WW-vN0c9Ae4-",
        "outputId": "567fa7ed-143d-42de-8884-1d013809452e"
      },
      "execution_count": 62,
      "outputs": [
        {
          "output_type": "execute_result",
          "data": {
            "text/plain": [
              "6"
            ]
          },
          "metadata": {},
          "execution_count": 62
        }
      ]
    },
    {
      "cell_type": "code",
      "source": [
        "# 28. Using boolean indexing, extract elements greater than 5 from the given NumPy array.\n",
        "def extract_element(arr):\n",
        "  return arr[arr>5]\n",
        "arr = np.array([3, 8, 2, 10, 5, 7])\n",
        "extract_element(arr)"
      ],
      "metadata": {
        "colab": {
          "base_uri": "https://localhost:8080/"
        },
        "id": "2VOpNaF_BOJj",
        "outputId": "67388608-e3ee-4e86-f2ed-f91c5ec1c8c2"
      },
      "execution_count": 63,
      "outputs": [
        {
          "output_type": "execute_result",
          "data": {
            "text/plain": [
              "array([ 8, 10,  7])"
            ]
          },
          "metadata": {},
          "execution_count": 63
        }
      ]
    },
    {
      "cell_type": "code",
      "source": [
        "# 29. Perform basic slicing to extract elements from index 2 to 5 (inclusive) from the given NumPy array.\n",
        "def slicing_array(arr):\n",
        "  return arr[2:6]\n",
        "arr = np.array([1, 2, 3, 4, 5, 6, 7, 8, 9])\n",
        "slicing_array(arr)"
      ],
      "metadata": {
        "colab": {
          "base_uri": "https://localhost:8080/"
        },
        "id": "xUzBsu2uCrLy",
        "outputId": "316d8318-3156-4326-ebc3-eb9b91c57c8f"
      },
      "execution_count": 64,
      "outputs": [
        {
          "output_type": "execute_result",
          "data": {
            "text/plain": [
              "array([3, 4, 5, 6])"
            ]
          },
          "metadata": {},
          "execution_count": 64
        }
      ]
    },
    {
      "cell_type": "code",
      "source": [
        "# 30. Slice the 2D NumPy array to extract the sub-array `[[2, 3], [5, 6]]` from the given array.\n",
        "def extract_element(arr):\n",
        "  return arr[0:2,1:3]\n",
        "arr  =np.array([[1,2,3],[4,5,6],[7,8,9]])\n",
        "extract_element(arr)"
      ],
      "metadata": {
        "colab": {
          "base_uri": "https://localhost:8080/"
        },
        "id": "TVDH92q5DRzL",
        "outputId": "3f2804b8-b59a-49e1-ab2b-1147243e435b"
      },
      "execution_count": 65,
      "outputs": [
        {
          "output_type": "execute_result",
          "data": {
            "text/plain": [
              "array([[2, 3],\n",
              "       [5, 6]])"
            ]
          },
          "metadata": {},
          "execution_count": 65
        }
      ]
    },
    {
      "cell_type": "code",
      "source": [
        "# 31.Write a NumPy function to extract elements in specific order from a given 2D array based on indices\n",
        "#provided in another array.\n",
        "def extract_elements(arr, indices):\n",
        "    return arr[indices[:,0], indices[:,1]]\n",
        "arr = np.array([[1,2,3],[4,5,6],[7,8,9]])\n",
        "indices = np.array([[0,1],[1,2],[2,0]])\n",
        "extract_elements(arr,indices)"
      ],
      "metadata": {
        "colab": {
          "base_uri": "https://localhost:8080/"
        },
        "id": "JWJvdNCIEfkX",
        "outputId": "fa232463-4069-40ec-cbc5-038ebf132650"
      },
      "execution_count": 69,
      "outputs": [
        {
          "output_type": "execute_result",
          "data": {
            "text/plain": [
              "array([2, 6, 7])"
            ]
          },
          "metadata": {},
          "execution_count": 69
        }
      ]
    },
    {
      "cell_type": "code",
      "source": [
        "# 32. Create a NumPy function that filters elements greater than a threshold from a given 1D array using\n",
        "#boolean indexing.\n",
        "def filter_array(arr, threshold):\n",
        "    return arr[arr > threshold]\n",
        "arr = np.array([1,2,3,8,5,9,7])\n",
        "threshold = 6\n",
        "filter_array(arr,threshold)"
      ],
      "metadata": {
        "colab": {
          "base_uri": "https://localhost:8080/"
        },
        "id": "1z1CDZ-uIpk2",
        "outputId": "c3e218bf-5269-48dc-d8ca-2d53c85b893a"
      },
      "execution_count": 70,
      "outputs": [
        {
          "output_type": "execute_result",
          "data": {
            "text/plain": [
              "array([8, 9, 7])"
            ]
          },
          "metadata": {},
          "execution_count": 70
        }
      ]
    },
    {
      "cell_type": "code",
      "source": [
        "#33. Develop a NumPy function that extracts specific elements from a 3D array using indices provided in three\n",
        "#separate arrays for each dimension.\n",
        "def extract_elements(array, indices_x, indices_y, indices_z):\n",
        "\n",
        "  extracted_elements = array[indices_x, indices_y, indices_z]\n",
        "  return extracted_elements\n",
        "array_3d = np.arange(27).reshape(3, 3, 3)\n",
        "indices_x = np.array([0,1,2])\n",
        "indices_y = np.array([1,2,0])\n",
        "indices_z = np.array([2,0,1])\n",
        "extracted_elements = extract_elements(array_3d, indices_x, indices_y, indices_z)\n",
        "print(extracted_elements)"
      ],
      "metadata": {
        "colab": {
          "base_uri": "https://localhost:8080/"
        },
        "id": "zD4o6Cr-LheN",
        "outputId": "f7d36c31-cdc0-4929-c3dc-5f0c45a64bf9"
      },
      "execution_count": 82,
      "outputs": [
        {
          "output_type": "stream",
          "name": "stdout",
          "text": [
            "[ 5 15 19]\n"
          ]
        }
      ]
    },
    {
      "cell_type": "code",
      "source": [
        "def extract_from_3d(arr, x_idx, y_idx, z_idx):\n",
        "    return arr[x_idx, y_idx, z_idx]\n",
        "arr_3d = np.arange(27).reshape(3, 3, 3)\n",
        "x_idx = [0, 1, 2]\n",
        "y_idx = [1, 2, 0]\n",
        "z_idx = [2, 0, 1]\n",
        "print(extract_from_3d(arr_3d, x_idx, y_idx, z_idx))"
      ],
      "metadata": {
        "colab": {
          "base_uri": "https://localhost:8080/"
        },
        "id": "CWQ2kuBSM3j2",
        "outputId": "e594f211-fcde-42cd-978a-3d7cf1411287"
      },
      "execution_count": 77,
      "outputs": [
        {
          "output_type": "stream",
          "name": "stdout",
          "text": [
            "[ 5 15 19]\n"
          ]
        }
      ]
    },
    {
      "cell_type": "code",
      "source": [
        "# 34. Write a NumPy function that returns elements from an array where both two conditions are satisfied\n",
        "#using boolean indexing.\n",
        "def return_elements_from_array(arr, condition1, condition2):\n",
        "    result = arr[(arr > condition1) & (arr < condition2)]\n",
        "    return result\n",
        "arr  = np.array([[1,2,3,],[4,5,6]])\n",
        "condition1 = 5\n",
        "condition2 = 10\n",
        "return_elements_from_array(arr, condition1, condition2)"
      ],
      "metadata": {
        "colab": {
          "base_uri": "https://localhost:8080/"
        },
        "id": "fmd7xKr2Nw2t",
        "outputId": "3fc1c87b-2b34-4936-ab75-bc4677bf880d"
      },
      "execution_count": 83,
      "outputs": [
        {
          "output_type": "execute_result",
          "data": {
            "text/plain": [
              "array([6])"
            ]
          },
          "metadata": {},
          "execution_count": 83
        }
      ]
    },
    {
      "cell_type": "code",
      "source": [
        "# 35. Create a NumPy function that extracts elements from a 2D array using row and column indices provided\n",
        "#in separate arrays.\n",
        "def extract_elements(arr, row_indices, col_indices):\n",
        "  return arr[row_indices,col_indices]\n",
        "arr = np.array([[1,2,3],[4,5,6],[7,8,9]])\n",
        "row_indices = np.array([0,1,2])\n",
        "col_indices = np.array([0,1,2])\n",
        "print(extract_elements(arr,row_indices,col_indices))"
      ],
      "metadata": {
        "colab": {
          "base_uri": "https://localhost:8080/"
        },
        "id": "WfjOav_bQWLh",
        "outputId": "1d244388-8ad0-49a1-bddc-a9801b7dbee0"
      },
      "execution_count": 84,
      "outputs": [
        {
          "output_type": "stream",
          "name": "stdout",
          "text": [
            "[1 5 9]\n"
          ]
        }
      ]
    },
    {
      "cell_type": "code",
      "source": [
        "# 36. Given an array arr of shape (3, 3), add a scalar value of 5 to each element using NumPy broadcasting.\n",
        "def add_scalar_to_array(arr):\n",
        "    scalar = 5\n",
        "    result = arr + scalar\n",
        "    return result\n",
        "arr = np.array([[1,2,3],[4,5,6],[7,8,9]])\n",
        "add_scalar_to_array(arr)"
      ],
      "metadata": {
        "colab": {
          "base_uri": "https://localhost:8080/"
        },
        "id": "mtYnRhJhRq8N",
        "outputId": "de312155-d88c-4417-9eb9-edb82a35c12d"
      },
      "execution_count": 85,
      "outputs": [
        {
          "output_type": "execute_result",
          "data": {
            "text/plain": [
              "array([[ 6,  7,  8],\n",
              "       [ 9, 10, 11],\n",
              "       [12, 13, 14]])"
            ]
          },
          "metadata": {},
          "execution_count": 85
        }
      ]
    },
    {
      "cell_type": "code",
      "source": [
        "# 37. Consider two arrays arr1 of shape (1, 3) and arr2 of shape (3, 4). Multiply each row of arr2 by the\n",
        "#corresponding element in arr1 using NumPy broadcasting\n",
        "def multiply_rows(arr1,arr2):\n",
        "  return arr2*arr1[:, np.newaxis]\n",
        "arr1 = np.array([1,2,3])\n",
        "arr2 = np.array([[1,2,3,4],[5,6,4,7],[8,9,6,4]])\n",
        "multiply_rows(arr1,arr2)"
      ],
      "metadata": {
        "colab": {
          "base_uri": "https://localhost:8080/"
        },
        "id": "x5BjyfY_ScMt",
        "outputId": "714d38b7-5078-4eaa-ee82-5c4dbe7d16ce"
      },
      "execution_count": 87,
      "outputs": [
        {
          "output_type": "execute_result",
          "data": {
            "text/plain": [
              "array([[ 1,  2,  3,  4],\n",
              "       [10, 12,  8, 14],\n",
              "       [24, 27, 18, 12]])"
            ]
          },
          "metadata": {},
          "execution_count": 87
        }
      ]
    },
    {
      "cell_type": "code",
      "source": [
        "#38. Given a 1D array arr1 of shape (1, 4) and a 2D array arr2 of shape (4, 3), add arr1 to each row of arr2 using\n",
        "#NumPy broadcasting.\n",
        "def adding_row(arr1,arr2):\n",
        "  return arr2+arr1[:,np.newaxis]\n",
        "arr1 = np.array([1,2,3,4])\n",
        "arr2 = np.array([[1,2,3],[5,4,6],[7,8,9],[8,5,2]])\n",
        "adding_row(arr1,arr2)"
      ],
      "metadata": {
        "colab": {
          "base_uri": "https://localhost:8080/"
        },
        "id": "1cCl1HUrUNMM",
        "outputId": "1a042831-7b8a-4bb1-c756-019e2611ed57"
      },
      "execution_count": 95,
      "outputs": [
        {
          "output_type": "execute_result",
          "data": {
            "text/plain": [
              "array([[ 2,  3,  4],\n",
              "       [ 7,  6,  8],\n",
              "       [10, 11, 12],\n",
              "       [12,  9,  6]])"
            ]
          },
          "metadata": {},
          "execution_count": 95
        }
      ]
    },
    {
      "cell_type": "code",
      "source": [
        "#39. Consider two arrays arr1 of shape (3, 1) and arr2 of shape (1, 3). Add these arrays using NumPy\n",
        "#broadcasting.\n",
        "def adding_row(arr1,arr2):\n",
        "  return arr1+arr2#[:,np.newaxis]\n",
        "arr1 = np.array([[1],[5],[9]])\n",
        "arr2 = np.array([1,2,3])\n",
        "adding_row(arr1,arr2)"
      ],
      "metadata": {
        "colab": {
          "base_uri": "https://localhost:8080/"
        },
        "id": "riJbVXTmVcE1",
        "outputId": "05031649-c1d8-4bd8-cd8a-991cf2bb2ec8"
      },
      "execution_count": 93,
      "outputs": [
        {
          "output_type": "execute_result",
          "data": {
            "text/plain": [
              "array([[ 2,  3,  4],\n",
              "       [ 6,  7,  8],\n",
              "       [10, 11, 12]])"
            ]
          },
          "metadata": {},
          "execution_count": 93
        }
      ]
    },
    {
      "cell_type": "code",
      "source": [
        "# 40. Given arrays arr1 of shape (2, 3) and arr2 of shape (2, 2), perform multiplication using NumPy\n",
        "#broadcasting. Handle the shape incompatibility.\n",
        "def multiple_arr(arr,arr2):\n",
        "  try:\n",
        "        return arr * arr2\n",
        "  except ValueError as e:\n",
        "        return f\"Shape mismatch: {e}\"\n",
        "arr = np.array([[1,2,3],[7,5,3]])\n",
        "arr2 = np.array([[2,3],[4,5]])\n",
        "multiple_arr(arr,arr2)"
      ],
      "metadata": {
        "colab": {
          "base_uri": "https://localhost:8080/",
          "height": 35
        },
        "id": "X-GnziFmXIXd",
        "outputId": "9180b563-dcc4-4721-a4ed-e571f599943a"
      },
      "execution_count": 100,
      "outputs": [
        {
          "output_type": "execute_result",
          "data": {
            "text/plain": [
              "'Shape mismatch: operands could not be broadcast together with shapes (2,3) (2,2) '"
            ],
            "application/vnd.google.colaboratory.intrinsic+json": {
              "type": "string"
            }
          },
          "metadata": {},
          "execution_count": 100
        }
      ]
    },
    {
      "cell_type": "code",
      "source": [
        "# 41. Calculate column-wise mean for the given array\n",
        "def cumulative_sum(arr):\n",
        "    return np.cumsum(arr, axis=0)\n",
        "arr = np.array([[1, 2, 3], [4, 5, 6]])\n",
        "print(cumulative_sum(arr))\n"
      ],
      "metadata": {
        "colab": {
          "base_uri": "https://localhost:8080/"
        },
        "id": "_6bwiBm5YPVc",
        "outputId": "b05db21b-d538-48d3-fa04-d359170743b1"
      },
      "execution_count": 101,
      "outputs": [
        {
          "output_type": "stream",
          "name": "stdout",
          "text": [
            "[[1 2 3]\n",
            " [5 7 9]]\n"
          ]
        }
      ]
    },
    {
      "cell_type": "code",
      "source": [
        "# 42. Find maximum value in each row of the given array\n",
        "def max_value(arr):\n",
        "    max_values = []\n",
        "    for row in arr:\n",
        "        max_value = max(row)\n",
        "        max_values.append(max_value)\n",
        "    return max_values\n",
        "\n",
        "arr = [[1, 2, 3], [4, 5, 6]]\n",
        "max_values = max_value(arr)\n",
        "print(max_values)"
      ],
      "metadata": {
        "colab": {
          "base_uri": "https://localhost:8080/"
        },
        "id": "fa9sbWMUaSWH",
        "outputId": "65d85141-7296-4b92-d635-e6e6749b7a5f"
      },
      "execution_count": 2,
      "outputs": [
        {
          "output_type": "stream",
          "name": "stdout",
          "text": [
            "[3, 6]\n"
          ]
        }
      ]
    },
    {
      "cell_type": "code",
      "source": [
        "#43. For the given array, find indices of maximum value in each column\n",
        "import numpy as np\n",
        "def max_indices_per_column(arr):\n",
        "  return np.argmax(arr, axis=0)\n",
        "arr = np.array([[1,2,3],[4,5,6]])\n",
        "print(max_indices_per_column(arr))"
      ],
      "metadata": {
        "colab": {
          "base_uri": "https://localhost:8080/"
        },
        "id": "R_GVY8oJai-4",
        "outputId": "dc728f13-508c-4afa-b68e-d20db585cdf7"
      },
      "execution_count": 5,
      "outputs": [
        {
          "output_type": "stream",
          "name": "stdout",
          "text": [
            "[1 1 1]\n"
          ]
        }
      ]
    },
    {
      "cell_type": "code",
      "source": [
        "# 44.for the given array, apply custom function to calculate moving sum along rows\n",
        "def moving_sum(arr,window_size=2):\n",
        "  return np.array([np.convolve(row,np.ones(window_size,dtype=int),'valid')for row in arr])\n",
        "\n",
        "arr = np.array([[1, 2, 3], [4, 5, 6]])\n",
        "moving_sum(arr,window_size=2)"
      ],
      "metadata": {
        "colab": {
          "base_uri": "https://localhost:8080/"
        },
        "id": "-uQDGNgolJkX",
        "outputId": "90075169-90cb-44ec-eb48-d43550e13db9"
      },
      "execution_count": 6,
      "outputs": [
        {
          "output_type": "execute_result",
          "data": {
            "text/plain": [
              "array([[ 3,  5],\n",
              "       [ 9, 11]])"
            ]
          },
          "metadata": {},
          "execution_count": 6
        }
      ]
    },
    {
      "cell_type": "code",
      "source": [
        "# 45. In the given array, check if all elements in each column are even.\n",
        "def all_even_columns(arr):\n",
        "    return np.all(arr % 2 == 0, axis=0)\n",
        "arr = np.array([[2, 4, 6], [3, 5, 7]])\n",
        "print(all_even_columns(arr))\n"
      ],
      "metadata": {
        "colab": {
          "base_uri": "https://localhost:8080/"
        },
        "id": "8vKoK8BCp3fM",
        "outputId": "0b6e6245-fa76-4a0c-de00-12c3544a1703"
      },
      "execution_count": 7,
      "outputs": [
        {
          "output_type": "stream",
          "name": "stdout",
          "text": [
            "[False False False]\n"
          ]
        }
      ]
    },
    {
      "cell_type": "code",
      "source": [
        "#46. Given a NumPy array arr, reshape it into a matrix of dimensions `m` rows and `n` columns. Return the\n",
        "#reshaped matrix.\n",
        "def reshape_array(arr, m, n):\n",
        "    return arr.reshape(m, n)\n",
        "arr = np.array([1, 2, 3, 4, 5, 6])\n",
        "print(reshape_array(arr, 2, 3))\n"
      ],
      "metadata": {
        "colab": {
          "base_uri": "https://localhost:8080/"
        },
        "id": "2xGMrlGSq75F",
        "outputId": "abc44252-fb0c-463f-b4ec-fa14d489f7ec"
      },
      "execution_count": 8,
      "outputs": [
        {
          "output_type": "stream",
          "name": "stdout",
          "text": [
            "[[1 2 3]\n",
            " [4 5 6]]\n"
          ]
        }
      ]
    },
    {
      "cell_type": "code",
      "source": [
        "#47. Create a function that takes a matrix as input and returns the flattened array.\n",
        "def flatten_matrix(matrix):\n",
        "    return matrix.flatten()\n",
        "matrix = np.array([[1, 2, 3], [4, 5, 6]])\n",
        "print(flatten_matrix(matrix))\n"
      ],
      "metadata": {
        "colab": {
          "base_uri": "https://localhost:8080/"
        },
        "id": "EmMcXzn1r6Ak",
        "outputId": "e5a460e4-caaa-4877-f08c-a56d353fd28c"
      },
      "execution_count": 9,
      "outputs": [
        {
          "output_type": "stream",
          "name": "stdout",
          "text": [
            "[1 2 3 4 5 6]\n"
          ]
        }
      ]
    },
    {
      "cell_type": "code",
      "source": [
        "#48. Write a function that concatenates two given arrays along a specified axis.\n",
        "def concatenate_arrays(arr1, arr2, axis):\n",
        "    return np.concatenate((arr1, arr2), axis=axis)\n",
        "arr1 = np.array([[1, 2], [3, 4]])\n",
        "arr2 = np.array([[5, 6], [7, 8]])\n",
        "print(concatenate_arrays(arr1, arr2, axis=0))"
      ],
      "metadata": {
        "colab": {
          "base_uri": "https://localhost:8080/"
        },
        "id": "-NQBLCoJswua",
        "outputId": "0a68c957-f674-474e-cc2a-0db3fd65a68f"
      },
      "execution_count": 10,
      "outputs": [
        {
          "output_type": "stream",
          "name": "stdout",
          "text": [
            "[[1 2]\n",
            " [3 4]\n",
            " [5 6]\n",
            " [7 8]]\n"
          ]
        }
      ]
    },
    {
      "cell_type": "code",
      "source": [
        "# 49. Split an array into multiple sub-arrays along a specified axis.\n",
        "def split_array(arr, indices_or_sections, axis=0):\n",
        "    return np.array_split(arr, indices_or_sections, axis=axis)\n",
        "arr = np.array([[1, 2, 3], [4, 5, 6]])\n",
        "print(split_array(arr, 2, axis=1))\n"
      ],
      "metadata": {
        "colab": {
          "base_uri": "https://localhost:8080/"
        },
        "id": "DJZUZUGYs_26",
        "outputId": "09c723a6-aba2-43d7-90de-d7501c47d8c1"
      },
      "execution_count": 11,
      "outputs": [
        {
          "output_type": "stream",
          "name": "stdout",
          "text": [
            "[array([[1, 2],\n",
            "       [4, 5]]), array([[3],\n",
            "       [6]])]\n"
          ]
        }
      ]
    },
    {
      "cell_type": "code",
      "source": [
        "# 50. Write a function that inserts and then deletes elements from a given array at specified indices.\n",
        "def insert_and_delete(arr, insert_indices, values, delete_indices):\n",
        "    arr = np.insert(arr, insert_indices, values)\n",
        "    arr = np.delete(arr, delete_indices)\n",
        "    return arr\n",
        "arr = np.array([1, 2, 3, 4])\n",
        "print(insert_and_delete(arr, [2], [99], [0]))  # Output: [2 99 3 4]\n"
      ],
      "metadata": {
        "colab": {
          "base_uri": "https://localhost:8080/"
        },
        "id": "UnTx7e9GtOBs",
        "outputId": "fcc3174e-e583-4eb1-ffc2-c96fe2336a3d"
      },
      "execution_count": 12,
      "outputs": [
        {
          "output_type": "stream",
          "name": "stdout",
          "text": [
            "[ 2 99  3  4]\n"
          ]
        }
      ]
    },
    {
      "cell_type": "code",
      "source": [
        "# 51. Create a NumPy array `arr1` with random integers and another array `arr2` with integers from 1 to 10.\n",
        "#Perform element-wise addition between `arr1` and `arr2`\n",
        "arr1 = np.random.randint(0, 10, 5)\n",
        "arr2 = np.arange(1, 11)[:5]\n",
        "print(arr1)\n",
        "print(arr2)\n",
        "print(arr1 + arr2)\n"
      ],
      "metadata": {
        "colab": {
          "base_uri": "https://localhost:8080/"
        },
        "id": "4x9OxAV4tkw6",
        "outputId": "b746c3ed-068a-406c-958b-0cc9235c231e"
      },
      "execution_count": 15,
      "outputs": [
        {
          "output_type": "stream",
          "name": "stdout",
          "text": [
            "[0 9 7 8 6]\n",
            "[1 2 3 4 5]\n",
            "[ 1 11 10 12 11]\n"
          ]
        }
      ]
    },
    {
      "cell_type": "code",
      "source": [
        "#52. Element-wise subtraction between two arrays.\n",
        "arr1 = np.arange(10, 0, -1)\n",
        "arr2 = np.arange(1, 11)\n",
        "print(arr1)\n",
        "print(arr2)\n",
        "print(arr1 - arr2)\n"
      ],
      "metadata": {
        "colab": {
          "base_uri": "https://localhost:8080/"
        },
        "id": "QJDp0zB3tyVs",
        "outputId": "b679057b-a2de-4243-dd29-54673577399b"
      },
      "execution_count": 16,
      "outputs": [
        {
          "output_type": "stream",
          "name": "stdout",
          "text": [
            "[10  9  8  7  6  5  4  3  2  1]\n",
            "[ 1  2  3  4  5  6  7  8  9 10]\n",
            "[ 9  7  5  3  1 -1 -3 -5 -7 -9]\n"
          ]
        }
      ]
    },
    {
      "cell_type": "code",
      "source": [
        "# 53. Perform element-wise multiplication between two arrays.\n",
        "arr1 = np.random.randint(0, 10, 5)\n",
        "arr2 = np.arange(1, 6)\n",
        "print(arr1 * arr2)\n"
      ],
      "metadata": {
        "colab": {
          "base_uri": "https://localhost:8080/"
        },
        "id": "yYOpbUjVt7Ej",
        "outputId": "ad77d042-e845-4958-c384-30208c627f34"
      },
      "execution_count": 17,
      "outputs": [
        {
          "output_type": "stream",
          "name": "stdout",
          "text": [
            "[ 7  6  0 20 20]\n"
          ]
        }
      ]
    },
    {
      "cell_type": "code",
      "source": [
        "# 54. Perform element-wise division between two arrays.\n",
        "arr1 = np.arange(2, 12, 2)\n",
        "arr2 = np.arange(1, 6)\n",
        "print(arr1 / arr2)\n"
      ],
      "metadata": {
        "colab": {
          "base_uri": "https://localhost:8080/"
        },
        "id": "DojLYy8hubL4",
        "outputId": "cbc12fd3-b470-43be-ba5a-0308639bdeed"
      },
      "execution_count": 18,
      "outputs": [
        {
          "output_type": "stream",
          "name": "stdout",
          "text": [
            "[2. 2. 2. 2. 2.]\n"
          ]
        }
      ]
    },
    {
      "cell_type": "code",
      "source": [
        "#55. Create a NumPy array `arr1` with integers from 1 to 5 and another array `arr2` with the same numbers\n",
        "#reversed. Calculate the exponentiation of `arr1` raised to the power of `arr2` element-wise.\n",
        "arr1 = np.arange(1, 6)\n",
        "arr2 = arr1[::-1]\n",
        "print(arr1 ** arr2)\n",
        "\n"
      ],
      "metadata": {
        "colab": {
          "base_uri": "https://localhost:8080/"
        },
        "id": "tbNPsAbWuhjN",
        "outputId": "1b2b7fe9-e030-49f2-cd8f-8ac817c13930"
      },
      "execution_count": 19,
      "outputs": [
        {
          "output_type": "stream",
          "name": "stdout",
          "text": [
            "[ 1 16 27 16  5]\n"
          ]
        }
      ]
    },
    {
      "cell_type": "code",
      "source": [
        "# 56. Write a function that counts the occurrences of a specific substring within a NumPy array of strings.\n",
        "def count_substring(arr, substring):\n",
        "    return np.char.count(arr, substring)\n",
        "arr = np.array(['hello', 'world', 'hello', 'numpy', 'hello'])\n",
        "print(count_substring(arr, 'hello'))\n"
      ],
      "metadata": {
        "colab": {
          "base_uri": "https://localhost:8080/"
        },
        "id": "riR8Yj9-uycA",
        "outputId": "ca5a76fc-60f0-48bb-95af-7d82ff20cbbe"
      },
      "execution_count": 20,
      "outputs": [
        {
          "output_type": "stream",
          "name": "stdout",
          "text": [
            "[1 0 1 0 1]\n"
          ]
        }
      ]
    },
    {
      "cell_type": "code",
      "source": [
        "# 57. Write a function that extracts uppercase characters from a NumPy array of strings.\n",
        "#arr = np.array(['Hello', 'World', 'OpenAI', 'GPT'])\n",
        "def extract_uppercase(arr):\n",
        "    return np.array([''.join([char for char in word if char.isupper()]) for word in arr])\n",
        "arr = np.array(['Hello', 'World', 'OpenAI', 'GPT'])\n",
        "print(extract_uppercase(arr))\n"
      ],
      "metadata": {
        "colab": {
          "base_uri": "https://localhost:8080/"
        },
        "id": "nvxpogauvF9f",
        "outputId": "cac92b8f-e6ca-4014-b309-9efeb907e922"
      },
      "execution_count": 21,
      "outputs": [
        {
          "output_type": "stream",
          "name": "stdout",
          "text": [
            "['H' 'W' 'OAI' 'GPT']\n"
          ]
        }
      ]
    },
    {
      "cell_type": "code",
      "source": [
        "# 58. Replace occurrences of a substring in a NumPy array of strings.\n",
        "def replace_substring(arr, old, new):\n",
        "    return np.char.replace(arr, old, new)\n",
        "arr = np.array(['apple', 'banana', 'grape', 'pineapple'])\n",
        "print(replace_substring(arr, 'apple', 'fruit'))\n"
      ],
      "metadata": {
        "colab": {
          "base_uri": "https://localhost:8080/"
        },
        "id": "iRYpjh-EvUUd",
        "outputId": "0a82f526-e450-46d2-b94f-5c8f002396fc"
      },
      "execution_count": 22,
      "outputs": [
        {
          "output_type": "stream",
          "name": "stdout",
          "text": [
            "['fruit' 'banana' 'grape' 'pinefruit']\n"
          ]
        }
      ]
    },
    {
      "cell_type": "code",
      "source": [
        "# 59. Write a function that concatenates strings in a NumPy array element-wise\n",
        "def concatenate_strings(arr, suffix):\n",
        "    return np.char.add(arr, suffix)\n",
        "arr = np.array(['apple', 'banana', 'grape'])\n",
        "print(concatenate_strings(arr, 's'))\n"
      ],
      "metadata": {
        "colab": {
          "base_uri": "https://localhost:8080/"
        },
        "id": "4Yv1m7aavsC9",
        "outputId": "6d235dc1-aced-4ff6-b982-2b1da847936e"
      },
      "execution_count": 24,
      "outputs": [
        {
          "output_type": "stream",
          "name": "stdout",
          "text": [
            "['apples' 'bananas' 'grapes']\n"
          ]
        }
      ]
    },
    {
      "cell_type": "code",
      "source": [
        "#60. Write a function that finds the length of the longest string in a NumPy array.\n",
        "\n",
        "#arr = np.array(['apple', 'banana', 'grape', 'pineapple'])\n",
        "\n",
        "def longest_string_length(arr):\n",
        "    return max(len(s) for s in arr)\n",
        "\n",
        "arr = np.array(['apple', 'banana', 'grape', 'pineapple'])\n",
        "print(longest_string_length(arr))\n"
      ],
      "metadata": {
        "colab": {
          "base_uri": "https://localhost:8080/"
        },
        "id": "Rod4f9PSvxSH",
        "outputId": "b91e2e65-cb6f-43b7-8dad-9cf43202d95e"
      },
      "execution_count": 25,
      "outputs": [
        {
          "output_type": "stream",
          "name": "stdout",
          "text": [
            "9\n"
          ]
        }
      ]
    },
    {
      "cell_type": "code",
      "source": [
        "#61. Create a dataset of 100 random integers between 1 and 1000. Compute the mean, median, variance, and\n",
        "#standard deviation of the dataset using NumPy's functions.\n",
        "\n",
        "data = np.random.randint(1, 1001, 100)\n",
        "mean = np.mean(data)\n",
        "median = np.median(data)\n",
        "variance = np.var(data)\n",
        "std_dev = np.std(data)\n",
        "\n",
        "print(f\"Mean: {mean}, Median: {median}, Variance: {variance}, Std Dev: {std_dev}\")\n"
      ],
      "metadata": {
        "colab": {
          "base_uri": "https://localhost:8080/"
        },
        "id": "FIlHR5IRv_kN",
        "outputId": "02b790a8-5fb8-4d4a-84a1-6330fbbb9d57"
      },
      "execution_count": 28,
      "outputs": [
        {
          "output_type": "stream",
          "name": "stdout",
          "text": [
            "Mean: 527.13, Median: 523.0, Variance: 77344.5931, Std Dev: 278.1089590430341\n"
          ]
        }
      ]
    },
    {
      "cell_type": "code",
      "source": [
        "#62. Generate an array of 50 random numbers between 1 and 100. Find the 25th and 75th percentiles of the\n",
        "#dataset\n",
        "\n",
        "data = np.random.randint(1, 101, 50)\n",
        "percentile_25 = np.percentile(data, 25)\n",
        "percentile_75 = np.percentile(data, 75)\n",
        "\n",
        "print(f\"25th Percentile: {percentile_25}, 75th Percentile: {percentile_75}\")\n"
      ],
      "metadata": {
        "colab": {
          "base_uri": "https://localhost:8080/"
        },
        "id": "4ADkAJXbwEwz",
        "outputId": "9415d98a-2ea5-419d-e9c7-fd04e604ad00"
      },
      "execution_count": 26,
      "outputs": [
        {
          "output_type": "stream",
          "name": "stdout",
          "text": [
            "25th Percentile: 26.25, 75th Percentile: 62.75\n"
          ]
        }
      ]
    },
    {
      "cell_type": "code",
      "source": [
        "#63. Create two arrays representing two sets of variables. Compute the correlation coefficient between these\n",
        "#arrays using NumPy's `corrcoef` function.\n",
        "\n",
        "arr1 = np.random.randint(1, 101, 50)\n",
        "arr2 = np.random.randint(1, 101, 50)\n",
        "correlation = np.corrcoef(arr1, arr2)\n",
        "\n",
        "print(\"Correlation Coefficient Matrix:\\n\", correlation)\n"
      ],
      "metadata": {
        "colab": {
          "base_uri": "https://localhost:8080/"
        },
        "id": "KNZVJvCtwIpv",
        "outputId": "104ac48c-c36d-48b1-e544-b72ab574f5e2"
      },
      "execution_count": 27,
      "outputs": [
        {
          "output_type": "stream",
          "name": "stdout",
          "text": [
            "Correlation Coefficient Matrix:\n",
            " [[1.         0.05452034]\n",
            " [0.05452034 1.        ]]\n"
          ]
        }
      ]
    },
    {
      "cell_type": "code",
      "source": [
        "#64. Create two matrices and perform matrix multiplication using NumPy's `dot` function.\n",
        "matrix1 = np.random.randint(1, 10, (3, 3))\n",
        "matrix2 = np.random.randint(1, 10, (3, 3))\n",
        "result = np.dot(matrix1, matrix2)\n",
        "\n",
        "print(\"Matrix Multiplication Result:\\n\", result)\n"
      ],
      "metadata": {
        "colab": {
          "base_uri": "https://localhost:8080/"
        },
        "id": "GeX5Mv1qwKIM",
        "outputId": "274213d2-c907-4029-89a1-11a3753d2b74"
      },
      "execution_count": 29,
      "outputs": [
        {
          "output_type": "stream",
          "name": "stdout",
          "text": [
            "Matrix Multiplication Result:\n",
            " [[ 91  41  57]\n",
            " [112  56  40]\n",
            " [ 98  52  46]]\n"
          ]
        }
      ]
    },
    {
      "cell_type": "code",
      "source": [
        "#65. Create an array of 50 integers between 10 and 1000. Calculate the 10th, 50th (median), and 90th\n",
        "#percentiles along with the first and third quartiles.\n",
        "\n",
        "data = np.random.randint(10, 1001, 50)\n",
        "percentile_10 = np.percentile(data, 10)\n",
        "percentile_50 = np.percentile(data, 50)\n",
        "percentile_90 = np.percentile(data, 90)\n",
        "q1 = np.percentile(data, 25)\n",
        "q3 = np.percentile(data, 75)\n",
        "\n",
        "print(f\"10th: {percentile_10}, Median: {percentile_50}, 90th: {percentile_90}, Q1: {q1}, Q3: {q3}\")\n"
      ],
      "metadata": {
        "colab": {
          "base_uri": "https://localhost:8080/"
        },
        "id": "_pkQ72kvwQAa",
        "outputId": "f3928934-ee02-4c92-9237-bfcf68e68612"
      },
      "execution_count": 30,
      "outputs": [
        {
          "output_type": "stream",
          "name": "stdout",
          "text": [
            "10th: 128.70000000000002, Median: 543.5, 90th: 860.3, Q1: 344.5, Q3: 757.25\n"
          ]
        }
      ]
    },
    {
      "cell_type": "code",
      "source": [
        "#66. Create a NumPy array of integers and find the index of a specific element.\n",
        "arr = np.array([10, 20, 30, 40, 50])\n",
        "element = 30\n",
        "index = np.where(arr == element)[0]\n",
        "\n",
        "print(f\"Index of {element}: {index}\")\n"
      ],
      "metadata": {
        "colab": {
          "base_uri": "https://localhost:8080/"
        },
        "id": "LHsh4F17wSMz",
        "outputId": "ed733491-ec06-4315-fbcc-f4b53249fcfc"
      },
      "execution_count": 31,
      "outputs": [
        {
          "output_type": "stream",
          "name": "stdout",
          "text": [
            "Index of 30: [2]\n"
          ]
        }
      ]
    },
    {
      "cell_type": "code",
      "source": [
        "#67. Generate a random NumPy array and sort it in ascending order.\n",
        "arr = np.random.randint(1, 100, 10)\n",
        "sorted_arr = np.sort(arr)\n",
        "\n",
        "print(f\"Original: {arr}, Sorted: {sorted_arr}\")\n"
      ],
      "metadata": {
        "colab": {
          "base_uri": "https://localhost:8080/"
        },
        "id": "woAhsJgswTwV",
        "outputId": "ea857e73-20a4-4191-dda6-b72d9625d657"
      },
      "execution_count": 32,
      "outputs": [
        {
          "output_type": "stream",
          "name": "stdout",
          "text": [
            "Original: [15 36 16 40 17 90 14 29 89  6], Sorted: [ 6 14 15 16 17 29 36 40 89 90]\n"
          ]
        }
      ]
    },
    {
      "cell_type": "code",
      "source": [
        "#68. Filter elements >20 in the given NumPy array.\n",
        "arr = np.array([12, 25, 6, 42, 8, 30])\n",
        "filtered = arr[arr > 20]\n",
        "\n",
        "print(\"Filtered Elements > 20:\", filtered)\n"
      ],
      "metadata": {
        "colab": {
          "base_uri": "https://localhost:8080/"
        },
        "id": "w88aflwfwVjF",
        "outputId": "d8387604-677c-45c6-8102-5af42be382df"
      },
      "execution_count": 33,
      "outputs": [
        {
          "output_type": "stream",
          "name": "stdout",
          "text": [
            "Filtered Elements > 20: [25 42 30]\n"
          ]
        }
      ]
    },
    {
      "cell_type": "code",
      "source": [
        "# 69. Filter elements which are divisible by 3 from a given NumPy array.\n",
        "arr = np.array([1, 5, 8, 12, 15])\n",
        "filtered = arr[arr % 3 == 0]\n",
        "\n",
        "print(\"Elements divisible by 3:\", filtered)\n"
      ],
      "metadata": {
        "colab": {
          "base_uri": "https://localhost:8080/"
        },
        "id": "dE8qOoFSwXCx",
        "outputId": "09ac3ca4-562b-4459-ec4f-c1263897bd2f"
      },
      "execution_count": 34,
      "outputs": [
        {
          "output_type": "stream",
          "name": "stdout",
          "text": [
            "Elements divisible by 3: [12 15]\n"
          ]
        }
      ]
    },
    {
      "cell_type": "code",
      "source": [
        "# 70. Filter elements which are ≥ 20 and ≤ 40 from a given NumPy array\n",
        "arr = np.array([10, 20, 30, 40, 50])\n",
        "filtered = arr[(arr >= 20) & (arr <= 40)]\n",
        "\n",
        "print(\"Elements ≥20 and ≤40:\", filtered)\n"
      ],
      "metadata": {
        "colab": {
          "base_uri": "https://localhost:8080/"
        },
        "id": "bKw9ItfDwY90",
        "outputId": "eef69477-992c-469f-bb7c-00dac9c1106f"
      },
      "execution_count": 35,
      "outputs": [
        {
          "output_type": "stream",
          "name": "stdout",
          "text": [
            "Elements ≥20 and ≤40: [20 30 40]\n"
          ]
        }
      ]
    },
    {
      "cell_type": "code",
      "source": [
        "#71. For the given NumPy array, check its byte order using the `dtype` attribute byteorder.\n",
        "\n",
        "arr = np.array([1, 2, 3])\n",
        "byte_order = arr.dtype.byteorder\n",
        "\n",
        "print(\"Byte Order:\", byte_order)  # Output: '=' for native, '<' for little-endian, '>' for big-endian\n"
      ],
      "metadata": {
        "colab": {
          "base_uri": "https://localhost:8080/"
        },
        "id": "E3XrjPRQwa-x",
        "outputId": "5068f973-bbaa-4fb9-855f-647b245d59b0"
      },
      "execution_count": 37,
      "outputs": [
        {
          "output_type": "stream",
          "name": "stdout",
          "text": [
            "Byte Order: =\n"
          ]
        }
      ]
    },
    {
      "cell_type": "code",
      "source": [
        "# 72. For the given NumPy array, perform byte swapping in place using `byteswap()`.\n",
        "arr = np.array([1, 256, 65536], dtype='>i4')  # Big-endian integer array\n",
        "arr.byteswap(inplace=True)\n",
        "print(arr)  # Swapped to little-endian\n"
      ],
      "metadata": {
        "colab": {
          "base_uri": "https://localhost:8080/"
        },
        "id": "I4NyIvBawdZA",
        "outputId": "41cbb185-ab3c-452f-a3aa-0d90c4e6cdc8"
      },
      "execution_count": 38,
      "outputs": [
        {
          "output_type": "stream",
          "name": "stdout",
          "text": [
            "[16777216    65536      256]\n"
          ]
        }
      ]
    },
    {
      "cell_type": "code",
      "source": [
        "#73. For the given NumPy array, swap its byte order without modifying the original array using\n",
        "#`newbyteorder()`.\n",
        "\n",
        "arr = np.array([1, 256, 65536], dtype='>i4')  # Big-endian integer array\n",
        "swapped_arr = arr.newbyteorder()\n",
        "print(swapped_arr)  # Little-endian\n",
        "print(arr)  # Original remains unchanged\n"
      ],
      "metadata": {
        "colab": {
          "base_uri": "https://localhost:8080/"
        },
        "id": "BNgJrHJIx3aB",
        "outputId": "1eb37cca-5e01-408d-941c-b1a374a6482d"
      },
      "execution_count": 39,
      "outputs": [
        {
          "output_type": "stream",
          "name": "stdout",
          "text": [
            "[16777216    65536      256]\n",
            "[    1   256 65536]\n"
          ]
        }
      ]
    },
    {
      "cell_type": "code",
      "source": [
        "#74. For the given NumPy array and swap its byte order conditionally based on system endianness using\n",
        "#`newbyteorder()`.\n",
        "\n",
        "arr = np.array([1, 256, 65536], dtype='>i4')  # Big-endian integer array\n",
        "if arr.dtype.byteorder != '=':  # Check if native byte order\n",
        "    arr = arr.newbyteorder()\n",
        "print(arr)\n"
      ],
      "metadata": {
        "colab": {
          "base_uri": "https://localhost:8080/"
        },
        "id": "ckh7kQgjx45v",
        "outputId": "ea3e6877-ca61-4373-ae4a-b5825ab09877"
      },
      "execution_count": 40,
      "outputs": [
        {
          "output_type": "stream",
          "name": "stdout",
          "text": [
            "[16777216    65536      256]\n"
          ]
        }
      ]
    },
    {
      "cell_type": "code",
      "source": [
        "#75. For the given NumPy array, check if byte swapping is necessary for the current system using `dtype`\n",
        "#attribute `byteorder\n",
        "\n",
        "arr = np.array([1, 2, 3], dtype='>i4')  # Big-endian integer array\n",
        "if arr.dtype.byteorder != '=':  # Not native byte order\n",
        "    print(\"Byte swapping is necessary.\")\n",
        "else:\n",
        "    print(\"Byte swapping is not necessary.\")\n"
      ],
      "metadata": {
        "colab": {
          "base_uri": "https://localhost:8080/"
        },
        "id": "_H2ggn12x7Is",
        "outputId": "912d2b81-628f-42c7-d68c-a466b1bc2797"
      },
      "execution_count": 41,
      "outputs": [
        {
          "output_type": "stream",
          "name": "stdout",
          "text": [
            "Byte swapping is necessary.\n"
          ]
        }
      ]
    },
    {
      "cell_type": "code",
      "source": [
        "#76. Create a NumPy array `arr1` with values from 1 to 10. Create a copy of `arr1` named `copy_arr` and modify\n",
        "#an element in `copy_arr`. Check if modifying `copy_arr` affects `arr1`.\n",
        "arr1 = np.arange(1, 11)\n",
        "copy_arr = arr1.copy()\n",
        "copy_arr[0] = 99\n",
        "print(\"Original array:\", arr1)\n",
        "print(\"Modified copy:\", copy_arr)\n"
      ],
      "metadata": {
        "colab": {
          "base_uri": "https://localhost:8080/"
        },
        "id": "6tdwVvWjx9Ma",
        "outputId": "ebb1c383-7162-43d7-aadd-67937a990fc1"
      },
      "execution_count": 42,
      "outputs": [
        {
          "output_type": "stream",
          "name": "stdout",
          "text": [
            "Original array: [ 1  2  3  4  5  6  7  8  9 10]\n",
            "Modified copy: [99  2  3  4  5  6  7  8  9 10]\n"
          ]
        }
      ]
    },
    {
      "cell_type": "code",
      "source": [
        "#77. Create a 2D NumPy array `matrix` of shape (3, 3) with random integers. Extract a slice `view_slice` from\n",
        "#the matrix. Modify an element in `view_slice` and observe if it changes the original `matrix`\n",
        "\n",
        "matrix = np.random.randint(1, 10, (3, 3))\n",
        "view_slice = matrix[1:, :2]\n",
        "view_slice[0, 0] = 99\n",
        "print(\"Original matrix:\\n\", matrix)\n",
        "print(\"Modified slice:\\n\", view_slice)\n"
      ],
      "metadata": {
        "colab": {
          "base_uri": "https://localhost:8080/"
        },
        "id": "q5PA-b5HyFpV",
        "outputId": "e226ce50-c58f-4f3c-ddb4-c5b0d7a1649c"
      },
      "execution_count": 43,
      "outputs": [
        {
          "output_type": "stream",
          "name": "stdout",
          "text": [
            "Original matrix:\n",
            " [[ 5  7  9]\n",
            " [99  6  5]\n",
            " [ 3  5  8]]\n",
            "Modified slice:\n",
            " [[99  6]\n",
            " [ 3  5]]\n"
          ]
        }
      ]
    },
    {
      "cell_type": "code",
      "source": [
        "#78. Create a NumPy array `array_a` of shape (4, 3) with sequential integers from 1 to 12. Extract a slice\n",
        "#`view_b` from `array_a` and broadcast the addition of 5 to view_b. Check if it alters the original `array_a`\n",
        "\n",
        "array_a = np.arange(1, 13).reshape(4, 3)\n",
        "view_b = array_a[:, :2]\n",
        "view_b += 5\n",
        "print(\"Original array:\\n\", array_a)\n"
      ],
      "metadata": {
        "colab": {
          "base_uri": "https://localhost:8080/"
        },
        "id": "iiZy4VbDyHs2",
        "outputId": "9bfa3b50-67bf-414a-bcd7-23d9320dd13a"
      },
      "execution_count": 44,
      "outputs": [
        {
          "output_type": "stream",
          "name": "stdout",
          "text": [
            "Original array:\n",
            " [[ 6  7  3]\n",
            " [ 9 10  6]\n",
            " [12 13  9]\n",
            " [15 16 12]]\n"
          ]
        }
      ]
    },
    {
      "cell_type": "code",
      "source": [
        "#79. Create a NumPy array `orig_array` of shape (2, 4) with values from 1 to 8. Create a reshaped view\n",
        "#`reshaped_view` of shape (4, 2) from orig_array. Modify an element in `reshaped_view` and check if it\n",
        "#reflects changes in the original `orig_array`.\n",
        "\n",
        "\n",
        "orig_array = np.arange(1, 9).reshape(2, 4)\n",
        "reshaped_view = orig_array.reshape(4, 2)\n",
        "reshaped_view[0, 0] = 99\n",
        "print(\"Original array:\\n\", orig_array)\n",
        "print(\"Reshaped view:\\n\", reshaped_view)\n"
      ],
      "metadata": {
        "colab": {
          "base_uri": "https://localhost:8080/"
        },
        "id": "mP2FxbgIyJ78",
        "outputId": "8ae20c73-d274-4515-f7c0-b0836dbbafb5"
      },
      "execution_count": 45,
      "outputs": [
        {
          "output_type": "stream",
          "name": "stdout",
          "text": [
            "Original array:\n",
            " [[99  2  3  4]\n",
            " [ 5  6  7  8]]\n",
            "Reshaped view:\n",
            " [[99  2]\n",
            " [ 3  4]\n",
            " [ 5  6]\n",
            " [ 7  8]]\n"
          ]
        }
      ]
    },
    {
      "cell_type": "code",
      "source": [
        "#80. Create a NumPy array `data` of shape (3, 4) with random integers. Extract a copy `data_copy` of\n",
        "#elements greater than 5. Modify an element in `data_copy` and verify if it affects the original `data`.\n",
        "\n",
        "data = np.random.randint(1, 10, (3, 4))\n",
        "data_copy = data[data > 5].copy()\n",
        "data_copy[0] = 99\n",
        "print(\"Original array:\\n\", data)\n",
        "print(\"Modified copy:\", data_copy)\n"
      ],
      "metadata": {
        "colab": {
          "base_uri": "https://localhost:8080/"
        },
        "id": "3wxULVWlyL4J",
        "outputId": "b96e83d3-c8d9-486f-eed4-6b1aa2e9c8da"
      },
      "execution_count": 46,
      "outputs": [
        {
          "output_type": "stream",
          "name": "stdout",
          "text": [
            "Original array:\n",
            " [[9 6 7 6]\n",
            " [5 1 5 6]\n",
            " [9 6 6 1]]\n",
            "Modified copy: [99  6  7  6  6  9  6  6]\n"
          ]
        }
      ]
    },
    {
      "cell_type": "code",
      "source": [
        "#81. Create two matrices A and B of identical shape containing integers and perform addition and subtraction\n",
        "#operations between them.\n",
        "\n",
        "A = np.random.randint(1, 10, (3, 3))\n",
        "B = np.random.randint(1, 10, (3, 3))\n",
        "add_result = A + B\n",
        "sub_result = A - B\n",
        "print(\"Addition:\\n\", add_result)\n",
        "print(\"Subtraction:\\n\", sub_result)\n"
      ],
      "metadata": {
        "colab": {
          "base_uri": "https://localhost:8080/"
        },
        "id": "GHMBQTvLyN84",
        "outputId": "41aaac82-ab35-4bf6-f3fe-637c1c6853f3"
      },
      "execution_count": 47,
      "outputs": [
        {
          "output_type": "stream",
          "name": "stdout",
          "text": [
            "Addition:\n",
            " [[16  8 11]\n",
            " [12 11  7]\n",
            " [17 13 10]]\n",
            "Subtraction:\n",
            " [[-2  6 -1]\n",
            " [ 4  5 -5]\n",
            " [-1 -1  6]]\n"
          ]
        }
      ]
    },
    {
      "cell_type": "code",
      "source": [
        "#82. Generate two matrices `C` (3x2) and `D` (2x4) and perform matrix multiplication.\n",
        "C = np.random.randint(1, 10, (3, 2))\n",
        "D = np.random.randint(1, 10, (2, 4))\n",
        "result = np.dot(C, D)\n",
        "print(\"Matrix Multiplication Result:\\n\", result)\n"
      ],
      "metadata": {
        "colab": {
          "base_uri": "https://localhost:8080/"
        },
        "id": "xhhlWexxyQFD",
        "outputId": "28271df9-0362-4fbd-ef94-e704cc1dd70d"
      },
      "execution_count": 48,
      "outputs": [
        {
          "output_type": "stream",
          "name": "stdout",
          "text": [
            "Matrix Multiplication Result:\n",
            " [[135  84  81  81]\n",
            " [135  66  69  84]\n",
            " [126  58  62  79]]\n"
          ]
        }
      ]
    },
    {
      "cell_type": "code",
      "source": [
        "#83. Create a matrix `E` and find its transpose\n",
        "E = np.random.randint(1, 10, (3, 3))\n",
        "transpose = E.T\n",
        "print(\"Original Matrix:\\n\", E)\n",
        "print(\"Transpose:\\n\", transpose)\n"
      ],
      "metadata": {
        "colab": {
          "base_uri": "https://localhost:8080/"
        },
        "id": "Qn-Y1-osyS7w",
        "outputId": "d63191c2-2e80-4bde-f497-c29c21a12de1"
      },
      "execution_count": 49,
      "outputs": [
        {
          "output_type": "stream",
          "name": "stdout",
          "text": [
            "Original Matrix:\n",
            " [[1 3 4]\n",
            " [3 8 9]\n",
            " [4 6 3]]\n",
            "Transpose:\n",
            " [[1 3 4]\n",
            " [3 8 6]\n",
            " [4 9 3]]\n"
          ]
        }
      ]
    },
    {
      "cell_type": "code",
      "source": [
        "#84. Generate a square matrix `F` and compute its determinant\n",
        "F = np.random.randint(1, 10, (3, 3))\n",
        "determinant = np.linalg.det(F)\n",
        "print(\"Matrix:\\n\", F)\n",
        "print(\"Determinant:\", determinant)\n"
      ],
      "metadata": {
        "colab": {
          "base_uri": "https://localhost:8080/"
        },
        "id": "N_-dmbibyWCv",
        "outputId": "13f99b0e-07db-443b-d3ad-d13668c918cf"
      },
      "execution_count": 50,
      "outputs": [
        {
          "output_type": "stream",
          "name": "stdout",
          "text": [
            "Matrix:\n",
            " [[2 9 2]\n",
            " [3 2 5]\n",
            " [2 9 3]]\n",
            "Determinant: -23.0\n"
          ]
        }
      ]
    },
    {
      "cell_type": "code",
      "source": [
        "#85. Create a square matrix `G` and find its inverse\n",
        "G = np.random.randint(1, 10, (3, 3))\n",
        "if np.linalg.det(G) != 0:  # Check if the matrix is invertible\n",
        "    inverse = np.linalg.inv(G)\n",
        "    print(\"Matrix:\\n\", G)\n",
        "    print(\"Inverse:\\n\", inverse)\n",
        "else:\n",
        "    print(\"Matrix is not invertible.\")\n"
      ],
      "metadata": {
        "colab": {
          "base_uri": "https://localhost:8080/"
        },
        "id": "WSP7tAjxyZEg",
        "outputId": "ea083569-2bf4-4dd7-9ad2-768d5b22dddd"
      },
      "execution_count": 51,
      "outputs": [
        {
          "output_type": "stream",
          "name": "stdout",
          "text": [
            "Matrix:\n",
            " [[4 6 5]\n",
            " [7 2 7]\n",
            " [9 3 6]]\n",
            "Inverse:\n",
            " [[-0.08571429 -0.2         0.3047619 ]\n",
            " [ 0.2        -0.2         0.06666667]\n",
            " [ 0.02857143  0.4        -0.32380952]]\n"
          ]
        }
      ]
    },
    {
      "cell_type": "code",
      "source": [],
      "metadata": {
        "id": "i4OZhvSkybUb"
      },
      "execution_count": null,
      "outputs": []
    }
  ]
}